{
 "cells": [
  {
   "cell_type": "markdown",
   "metadata": {},
   "source": [
    "# Processamento de dados com Spark nas eleições de 2022"
   ]
  },
  {
   "cell_type": "markdown",
   "metadata": {},
   "source": [
    "## Passos iniciais e Lazy Evaluation"
   ]
  },
  {
   "cell_type": "code",
   "execution_count": 4,
   "metadata": {},
   "outputs": [
    {
     "name": "stderr",
     "output_type": "stream",
     "text": [
      "/home/joaopedro/.local/lib/python3.6/site-packages/pyspark/context.py:238: FutureWarning: Python 3.6 support is deprecated in Spark 3.2.\n",
      "  FutureWarning\n"
     ]
    }
   ],
   "source": [
    "from pyspark.sql import SparkSession\n",
    "\n",
    "spark = SparkSession.builder.appName('SparkEleicoes2022').getOrCreate()"
   ]
  },
  {
   "cell_type": "markdown",
   "metadata": {},
   "source": [
    "Carregando arquivo de bens declarados dos candidatos"
   ]
  },
  {
   "cell_type": "code",
   "execution_count": 8,
   "metadata": {},
   "outputs": [],
   "source": [
    "bens_df = (\n",
    "    spark\n",
    "    .read\n",
    "    .csv(\n",
    "        './bem_candidato_2022/bem_candidato_2022_BRASIL.csv', \n",
    "        header=True, \n",
    "        inferSchema=True,\n",
    "        sep=';',\n",
    "        encoding='latin-1'\n",
    "    )\n",
    ")"
   ]
  },
  {
   "cell_type": "markdown",
   "metadata": {},
   "source": [
    "Tentativa vã de mostrar o conteúdo do arquivo"
   ]
  },
  {
   "cell_type": "code",
   "execution_count": 9,
   "metadata": {},
   "outputs": [
    {
     "name": "stdout",
     "output_type": "stream",
     "text": [
      "DataFrame[DT_GERACAO: string, HH_GERACAO: string, ANO_ELEICAO: string, CD_TIPO_ELEICAO: string, NM_TIPO_ELEICAO: string, CD_ELEICAO: int, DS_ELEICAO: string, DT_ELEICAO: string, SG_UF: string, SG_UE: string, NM_UE: string, SQ_CANDIDATO: bigint, NR_ORDEM_CANDIDATO: int, CD_TIPO_BEM_CANDIDATO: int, DS_TIPO_BEM_CANDIDATO: string, DS_BEM_CANDIDATO: string, VR_BEM_CANDIDATO: string, DT_ULTIMA_ATUALIZACAO: string, HH_ULTIMA_ATUALIZACAO: string]\n"
     ]
    }
   ],
   "source": [
    "print(bens_df)"
   ]
  },
  {
   "cell_type": "markdown",
   "metadata": {},
   "source": [
    "Oops! O Spark não carregou o arquivo, apenas criou um objeto que representa o arquivo. Isso é chamado de **lazy evaluation**. O Spark só vai carregar o arquivo quando for necessário."
   ]
  },
  {
   "cell_type": "markdown",
   "metadata": {},
   "source": [
    "Mostrando as 10 primeiras linhas do conjunto de dados do spak"
   ]
  },
  {
   "cell_type": "code",
   "execution_count": 16,
   "metadata": {},
   "outputs": [
    {
     "name": "stdout",
     "output_type": "stream",
     "text": [
      "+----------+----------+-----------+---------------+-----------------+----------+--------------------+----------+-----+-----+-------------------+------------+------------------+---------------------+---------------------+--------------------+----------------+---------------------+---------------------+\n",
      "|DT_GERACAO|HH_GERACAO|ANO_ELEICAO|CD_TIPO_ELEICAO|  NM_TIPO_ELEICAO|CD_ELEICAO|          DS_ELEICAO|DT_ELEICAO|SG_UF|SG_UE|              NM_UE|SQ_CANDIDATO|NR_ORDEM_CANDIDATO|CD_TIPO_BEM_CANDIDATO|DS_TIPO_BEM_CANDIDATO|    DS_BEM_CANDIDATO|VR_BEM_CANDIDATO|DT_ULTIMA_ATUALIZACAO|HH_ULTIMA_ATUALIZACAO|\n",
      "+----------+----------+-----------+---------------+-----------------+----------+--------------------+----------+-----+-----+-------------------+------------+------------------+---------------------+---------------------+--------------------+----------------+---------------------+---------------------+\n",
      "|25/09/2022|  18:35:28|       2022|              2|Eleição Ordinária|       546|Eleições Gerais E...|02/10/2022|   MT|   MT|        MATO GROSSO|110001608768|                 2|                   21| Veículo automotor...|               Carro|        40000,00|           16/09/2022|             15:54:31|\n",
      "|25/09/2022|  18:35:28|       2022|              2|Eleição Ordinária|       546|Eleições Gerais E...|02/10/2022|   RN|   RN|RIO GRANDE DO NORTE|200001608811|                 4|                   74| Fundos: Ações, Mú...|5.617,50 AÇÕES DA...|        50164,28|           16/09/2022|             09:00:01|\n",
      "|25/09/2022|  18:35:28|       2022|              2|Eleição Ordinária|       546|Eleições Gerais E...|02/10/2022|   SC|   SC|     SANTA CATARINA|240001614377|                 9|                   13|              Terreno|TERRENO URBANO,  ...|       186200,00|           16/09/2022|             00:00:38|\n",
      "|25/09/2022|  18:35:28|       2022|              2|Eleição Ordinária|       546|Eleições Gerais E...|02/10/2022|   SC|   SC|     SANTA CATARINA|240001614377|                19|                   41| Caderneta de poup...|CADERNETA DE POUP...|         2367,39|           16/09/2022|             00:00:38|\n",
      "|25/09/2022|  18:35:28|       2022|              2|Eleição Ordinária|       546|Eleições Gerais E...|02/10/2022|   RS|   RS|  RIO GRANDE DO SUL|210001647159|                 5|                   61| Depósito bancário...|SALDO APLICACAO F...|        22713,17|           13/09/2022|             17:21:04|\n",
      "|25/09/2022|  18:35:28|       2022|              2|Eleição Ordinária|       546|Eleições Gerais E...|02/10/2022|   PI|   PI|              PIAUÍ|180001610759|                 7|                   49| Outras aplicações...|SALDO APLICADO EM...|       222349,52|           18/09/2022|             10:37:05|\n",
      "|25/09/2022|  18:35:28|       2022|              2|Eleição Ordinária|       546|Eleições Gerais E...|02/10/2022|   PI|   PI|              PIAUÍ|180001610760|                 4|                   12|                 Casa|AQUISICAO DE RELA...|      1300000,00|           18/09/2022|             10:37:05|\n",
      "|25/09/2022|  18:35:28|       2022|              2|Eleição Ordinária|       546|Eleições Gerais E...|02/10/2022|   SP|   SP|          SÃO PAULO|250001611430|                 3|                   12|                 Casa|CASA EM SAO JOSE ...|       511700,00|           20/09/2022|             12:05:36|\n",
      "|25/09/2022|  18:35:28|       2022|              2|Eleição Ordinária|       546|Eleições Gerais E...|02/10/2022|   SP|   SP|          SÃO PAULO|250001611430|                 8|                   21| Veículo automotor...|    CRETA 1.6 - 2018|        80000,00|           20/09/2022|             12:05:36|\n",
      "|25/09/2022|  18:35:28|       2022|              2|Eleição Ordinária|       546|Eleições Gerais E...|02/10/2022|   ES|   ES|     ESPÍRITO SANTO| 80001651647|                 8|                   49| Outras aplicações...|Saldo em ourocap ...|        68598,68|           15/09/2022|             14:01:31|\n",
      "+----------+----------+-----------+---------------+-----------------+----------+--------------------+----------+-----+-----+-------------------+------------+------------------+---------------------+---------------------+--------------------+----------------+---------------------+---------------------+\n",
      "only showing top 10 rows\n",
      "\n"
     ]
    }
   ],
   "source": [
    "(\n",
    "    spark\n",
    "    .read\n",
    "    .csv(\n",
    "        './bem_candidato_2022/bem_candidato_2022_BRASIL.csv', \n",
    "        header=True, \n",
    "        inferSchema=True,\n",
    "        sep=';',\n",
    "        encoding='latin1'\n",
    "    )\n",
    "    # Até essa linha o Spark não faz nada, apenas monta o pipeline\n",
    "    # A partir daqui o Spark começa a processar os dados\n",
    "    # pois o método .show() é um  lazy evaluation\n",
    "    .show(10, True)\n",
    ")"
   ]
  },
  {
   "cell_type": "markdown",
   "metadata": {},
   "source": [
    "Agora sim! O Spark carregou o arquivo e mostrou as 10 primeiras linhas."
   ]
  },
  {
   "cell_type": "markdown",
   "metadata": {},
   "source": [
    "## Primeiras queries e planos de execução"
   ]
  },
  {
   "cell_type": "code",
   "execution_count": 17,
   "metadata": {},
   "outputs": [],
   "source": [
    "from pyspark.sql import functions as F"
   ]
  },
  {
   "cell_type": "code",
   "execution_count": 20,
   "metadata": {},
   "outputs": [
    {
     "name": "stdout",
     "output_type": "stream",
     "text": [
      "+------------+---------------------+----------------+\n",
      "|SQ_CANDIDATO|DS_TIPO_BEM_CANDIDATO|VR_BEM_CANDIDATO|\n",
      "+------------+---------------------+----------------+\n",
      "|110001608768| Veículo automotor...|         40000.0|\n",
      "|200001608811| Fundos: Ações, Mú...|        50164.28|\n",
      "|240001614377|              Terreno|        186200.0|\n",
      "|240001614377| Caderneta de poup...|         2367.39|\n",
      "|210001647159| Depósito bancário...|        22713.17|\n",
      "|180001610759| Outras aplicações...|       222349.52|\n",
      "|180001610760|                 Casa|       1300000.0|\n",
      "|250001611430|                 Casa|        511700.0|\n",
      "|250001611430| Veículo automotor...|         80000.0|\n",
      "| 80001651647| Outras aplicações...|        68598.68|\n",
      "+------------+---------------------+----------------+\n",
      "only showing top 10 rows\n",
      "\n"
     ]
    }
   ],
   "source": [
    "# Apontando para o diretório onde estão os arquivos\n",
    "bens_df = (\n",
    "    spark\n",
    "    .read\n",
    "    .csv(\n",
    "        './bem_candidato_2022/bem_candidato_2022_BRASIL.csv', \n",
    "        header=True, \n",
    "        inferSchema=True,\n",
    "        sep=';',\n",
    "        encoding='latin1'\n",
    "    )\n",
    ")\n",
    "\n",
    "# Realizando a query\n",
    "\n",
    "(\n",
    "    bens_df\n",
    "    .select(\n",
    "        [\n",
    "            'SQ_CANDIDATO', \n",
    "            'DS_TIPO_BEM_CANDIDATO', \n",
    "            'VR_BEM_CANDIDATO'\n",
    "        ]\n",
    "    )\n",
    "    .withColumn(\n",
    "        # substituindo , por . para que o Spark entenda que é um float\n",
    "        # e convertendo para float\n",
    "        \n",
    "        'VR_BEM_CANDIDATO',\n",
    "        F.regexp_replace('VR_BEM_CANDIDATO', ',', '.').cast('float')\n",
    "    )\n",
    "    .show(10, True)\n",
    ")"
   ]
  },
  {
   "cell_type": "markdown",
   "metadata": {},
   "source": [
    "Visualizando o plano de execução da query com filtro"
   ]
  },
  {
   "cell_type": "code",
   "execution_count": 29,
   "metadata": {},
   "outputs": [
    {
     "name": "stdout",
     "output_type": "stream",
     "text": [
      "== Physical Plan ==\n",
      "* Project (3)\n",
      "+- * Filter (2)\n",
      "   +- Scan csv  (1)\n",
      "\n",
      "\n",
      "(1) Scan csv \n",
      "Output [3]: [SQ_CANDIDATO#1256L, DS_TIPO_BEM_CANDIDATO#1259, VR_BEM_CANDIDATO#1261]\n",
      "Batched: false\n",
      "Location: InMemoryFileIndex [file:/home/joaopedro/Desktop/projects/analise_bens_deputados_fed/bem_candidato_2022/bem_candidato_2022_BRASIL.csv]\n",
      "PushedFilters: [IsNotNull(VR_BEM_CANDIDATO)]\n",
      "ReadSchema: struct<SQ_CANDIDATO:bigint,DS_TIPO_BEM_CANDIDATO:string,VR_BEM_CANDIDATO:string>\n",
      "\n",
      "(2) Filter [codegen id : 1]\n",
      "Input [3]: [SQ_CANDIDATO#1256L, DS_TIPO_BEM_CANDIDATO#1259, VR_BEM_CANDIDATO#1261]\n",
      "Condition : (isnotnull(VR_BEM_CANDIDATO#1261) AND (cast(regexp_replace(VR_BEM_CANDIDATO#1261, ,, ., 1) as float) > 10000.0))\n",
      "\n",
      "(3) Project [codegen id : 1]\n",
      "Output [3]: [SQ_CANDIDATO#1256L, DS_TIPO_BEM_CANDIDATO#1259, cast(regexp_replace(VR_BEM_CANDIDATO#1261, ,, ., 1) as float) AS VR_BEM_CANDIDATO#1286]\n",
      "Input [3]: [SQ_CANDIDATO#1256L, DS_TIPO_BEM_CANDIDATO#1259, VR_BEM_CANDIDATO#1261]\n",
      "\n",
      "\n"
     ]
    }
   ],
   "source": [
    "query_bens_df = (\n",
    "    spark\n",
    "    .read\n",
    "    .csv(\n",
    "        './bem_candidato_2022/bem_candidato_2022_BRASIL.csv', \n",
    "        header=True, \n",
    "        inferSchema=True,\n",
    "        sep=';',\n",
    "        encoding='latin1'\n",
    "    )\n",
    "    .select(\n",
    "        [\n",
    "            'SQ_CANDIDATO', \n",
    "            'DS_TIPO_BEM_CANDIDATO', \n",
    "            'VR_BEM_CANDIDATO'\n",
    "        ]\n",
    "    )\n",
    "    .withColumn(\n",
    "        # substituindo , por . para que o Spark entenda que é um float\n",
    "        # e convertendo para float\n",
    "        \n",
    "        'VR_BEM_CANDIDATO',\n",
    "        F.regexp_replace('VR_BEM_CANDIDATO', ',', '.').cast('float')\n",
    "    )\n",
    "    \n",
    ")\n",
    "\n",
    "# filtrar os bens com valor maior que 10 mil\n",
    "query_bens_df = query_bens_df.filter('VR_BEM_CANDIDATO > 10000')\n",
    "query_bens_df.explain(mode='formatted')"
   ]
  },
  {
   "cell_type": "markdown",
   "metadata": {},
   "source": [
    "## Agregações e partições"
   ]
  },
  {
   "cell_type": "markdown",
   "metadata": {},
   "source": [
    "Vamos calcular o total de bens declarados por todos os candidatos a cargos de deputado federal"
   ]
  },
  {
   "cell_type": "code",
   "execution_count": 37,
   "metadata": {},
   "outputs": [],
   "source": [
    "# Vamos calcular o total de bens declarados por todos os candidatos\n",
    "agg_total_bens = (\n",
    "    spark\n",
    "    .read\n",
    "    .csv(\n",
    "        './bem_candidato_2022/bem_candidato_2022_BRASIL.csv', \n",
    "        header=True, \n",
    "        inferSchema=True,\n",
    "        sep=';',\n",
    "        encoding='latin1'\n",
    "    )\n",
    "    .select(\n",
    "        [\n",
    "            'SQ_CANDIDATO',\n",
    "            'VR_BEM_CANDIDATO'\n",
    "        ]\n",
    "    )\n",
    "    .withColumn(\n",
    "        # substituindo , por . para que o Spark entenda que é um float\n",
    "        # e convertendo para float\n",
    "        'VR_BEM_CANDIDATO',\n",
    "        F.regexp_replace('VR_BEM_CANDIDATO', ',', '.').cast('float')\n",
    "    )\n",
    "    .agg(\n",
    "        F.sum('VR_BEM_CANDIDATO').alias('TOTAL_BENS')\n",
    "    )\n",
    ")"
   ]
  },
  {
   "cell_type": "code",
   "execution_count": 38,
   "metadata": {},
   "outputs": [
    {
     "name": "stdout",
     "output_type": "stream",
     "text": [
      "== Physical Plan ==\n",
      "AdaptiveSparkPlan isFinalPlan=false\n",
      "+- HashAggregate(keys=[], functions=[sum(VR_BEM_CANDIDATO#1769)])\n",
      "   +- Exchange SinglePartition, ENSURE_REQUIREMENTS, [id=#838]\n",
      "      +- HashAggregate(keys=[], functions=[partial_sum(VR_BEM_CANDIDATO#1769)])\n",
      "         +- Project [cast(regexp_replace(VR_BEM_CANDIDATO#1745, ,, ., 1) as float) AS VR_BEM_CANDIDATO#1769]\n",
      "            +- FileScan csv [VR_BEM_CANDIDATO#1745] Batched: false, DataFilters: [], Format: CSV, Location: InMemoryFileIndex(1 paths)[file:/home/joaopedro/Desktop/projects/analise_bens_deputados_fed/bem_c..., PartitionFilters: [], PushedFilters: [], ReadSchema: struct<VR_BEM_CANDIDATO:string>\n",
      "\n",
      "\n"
     ]
    }
   ],
   "source": [
    "agg_total_bens.explain()"
   ]
  },
  {
   "cell_type": "code",
   "execution_count": 39,
   "metadata": {},
   "outputs": [
    {
     "name": "stdout",
     "output_type": "stream",
     "text": [
      "+---------------------+\n",
      "|TOTAL_BENS           |\n",
      "+---------------------+\n",
      "|2.3072723030748222E10|\n",
      "+---------------------+\n",
      "\n"
     ]
    }
   ],
   "source": [
    "agg_total_bens.show(truncate=False)"
   ]
  },
  {
   "cell_type": "markdown",
   "metadata": {},
   "source": [
    "## Joins e Spark SQL"
   ]
  },
  {
   "cell_type": "code",
   "execution_count": 40,
   "metadata": {},
   "outputs": [],
   "source": [
    "# 'Carregando' o arquivo de bens\n",
    "bens_df = (\n",
    "    spark\n",
    "    .read\n",
    "    .csv(\n",
    "        './bem_candidato_2022/bem_candidato_2022_BRASIL.csv',\n",
    "        header=True,\n",
    "        inferSchema=True,\n",
    "        sep=';',\n",
    "        encoding='latin1'\n",
    "    )\n",
    "    .withColumn(\n",
    "        # substituindo , por . para que o Spark entenda que é um float\n",
    "        # e convertendo para float\n",
    "        'VR_BEM_CANDIDATO',\n",
    "        F.regexp_replace('VR_BEM_CANDIDATO', ',', '.').cast('float')\n",
    "    )\n",
    ")\n",
    "\n",
    "\n",
    "# Carregando o arquivo de candidatos\n",
    "candidatos_df = (\n",
    "    spark\n",
    "    .read\n",
    "    .csv(\n",
    "        './consulta_cand_2022/consulta_cand_2022_BRASIL.csv',\n",
    "        header=True,\n",
    "        inferSchema=True,\n",
    "        sep=';',\n",
    "        encoding='latin1'\n",
    "    )\n",
    ")"
   ]
  },
  {
   "cell_type": "markdown",
   "metadata": {},
   "source": [
    "Realizando o Join na chave SQ_CANDIDATO"
   ]
  },
  {
   "cell_type": "code",
   "execution_count": 44,
   "metadata": {},
   "outputs": [
    {
     "name": "stdout",
     "output_type": "stream",
     "text": [
      "+------------+--------------------+---------------------+----------+----------------+\n",
      "|SQ_CANDIDATO|        NM_CANDIDATO|DS_TIPO_BEM_CANDIDATO|SG_PARTIDO|VR_BEM_CANDIDATO|\n",
      "+------------+--------------------+---------------------+----------+----------------+\n",
      "|110001608768|   VANDERLEY DA GUIA| Veículo automotor...|      PSOL|         40000.0|\n",
      "|200001608811|WALTER PEREIRA ALVES| Fundos: Ações, Mú...|        PT|        50164.28|\n",
      "|240001614377|SILVIO ALEXANDRE ...|              Terreno|       PSD|        186200.0|\n",
      "|240001614377|SILVIO ALEXANDRE ...| Caderneta de poup...|       PSD|         2367.39|\n",
      "|210001647159| JOÃO ERVINO FISCHER| Depósito bancário...|        PP|        22713.17|\n",
      "|180001610759|FLAVIO RODRIGUES ...| Outras aplicações...|        PT|       222349.52|\n",
      "|180001610760|JADYEL SILVA ALENCAR|                 Casa|        PV|       1300000.0|\n",
      "|250001611430|RENATO PUPO DE PAULA|                 Casa|      PSDB|        511700.0|\n",
      "|250001611430|RENATO PUPO DE PAULA| Veículo automotor...|      PSDB|         80000.0|\n",
      "| 80001651647|   HERCULES SILVEIRA| Outras aplicações...|  PATRIOTA|        68598.68|\n",
      "+------------+--------------------+---------------------+----------+----------------+\n",
      "only showing top 10 rows\n",
      "\n"
     ]
    }
   ],
   "source": [
    "# Join entre os dois DataFrames\n",
    "bens_candidatos_df = bens_df.join(\n",
    "    candidatos_df,\n",
    "    'SQ_CANDIDATO',\n",
    "    how = 'left'\n",
    ")\n",
    "\n",
    "# Visualizando as 10 primeiras linhas\n",
    "bens_candidatos_df.select(\n",
    "    [\n",
    "        'SQ_CANDIDATO',\n",
    "        'NM_CANDIDATO',\n",
    "        'DS_TIPO_BEM_CANDIDATO',\n",
    "        'SG_PARTIDO',\n",
    "        'VR_BEM_CANDIDATO'\n",
    "    ]\n",
    ").show(10, True)"
   ]
  },
  {
   "cell_type": "markdown",
   "metadata": {},
   "source": [
    "Realizando a mesma query com Spark SQL"
   ]
  },
  {
   "cell_type": "code",
   "execution_count": 47,
   "metadata": {},
   "outputs": [
    {
     "name": "stdout",
     "output_type": "stream",
     "text": [
      "+------------+--------------------+---------------------+----------+----------------+\n",
      "|SQ_CANDIDATO|        NM_CANDIDATO|DS_TIPO_BEM_CANDIDATO|SG_PARTIDO|VR_BEM_CANDIDATO|\n",
      "+------------+--------------------+---------------------+----------+----------------+\n",
      "|110001608768|   VANDERLEY DA GUIA| Veículo automotor...|      PSOL|         40000.0|\n",
      "|200001608811|WALTER PEREIRA ALVES| Fundos: Ações, Mú...|        PT|        50164.28|\n",
      "|240001614377|SILVIO ALEXANDRE ...|              Terreno|       PSD|        186200.0|\n",
      "|240001614377|SILVIO ALEXANDRE ...| Caderneta de poup...|       PSD|         2367.39|\n",
      "|210001647159| JOÃO ERVINO FISCHER| Depósito bancário...|        PP|        22713.17|\n",
      "|180001610759|FLAVIO RODRIGUES ...| Outras aplicações...|        PT|       222349.52|\n",
      "|180001610760|JADYEL SILVA ALENCAR|                 Casa|        PV|       1300000.0|\n",
      "|250001611430|RENATO PUPO DE PAULA|                 Casa|      PSDB|        511700.0|\n",
      "|250001611430|RENATO PUPO DE PAULA| Veículo automotor...|      PSDB|         80000.0|\n",
      "| 80001651647|   HERCULES SILVEIRA| Outras aplicações...|  PATRIOTA|        68598.68|\n",
      "+------------+--------------------+---------------------+----------+----------------+\n",
      "only showing top 10 rows\n",
      "\n"
     ]
    }
   ],
   "source": [
    "# Primeiramente, as tabelas são cadastradas na interface SQL\n",
    "# para que possam ser referenciadas no Spark SQL\n",
    "bens_df.createOrReplaceTempView('bens')\n",
    "candidatos_df.createOrReplaceTempView('candidatos')\n",
    "\n",
    "# Realizando a query\n",
    "# pura e simplesmente usando SQL\n",
    "bens_candidatos_df = spark.sql(\n",
    "    \"\"\"\n",
    "    SELECT\n",
    "        bens.SQ_CANDIDATO,\n",
    "        candidatos.NM_CANDIDATO,\n",
    "        bens.DS_TIPO_BEM_CANDIDATO,\n",
    "        candidatos.SG_PARTIDO,\n",
    "        bens.VR_BEM_CANDIDATO\n",
    "    FROM\n",
    "        bens\n",
    "    LEFT JOIN\n",
    "        candidatos\n",
    "    ON\n",
    "        bens.SQ_CANDIDATO = candidatos.SQ_CANDIDATO\n",
    "    \"\"\"\n",
    ")\n",
    "\n",
    "bens_candidatos_df.show(10, True)"
   ]
  }
 ],
 "metadata": {
  "kernelspec": {
   "display_name": "Python 3.6.9 64-bit",
   "language": "python",
   "name": "python3"
  },
  "language_info": {
   "codemirror_mode": {
    "name": "ipython",
    "version": 3
   },
   "file_extension": ".py",
   "mimetype": "text/x-python",
   "name": "python",
   "nbconvert_exporter": "python",
   "pygments_lexer": "ipython3",
   "version": "3.6.9"
  },
  "orig_nbformat": 4,
  "vscode": {
   "interpreter": {
    "hash": "31f2aee4e71d21fbe5cf8b01ff0e069b9275f58929596ceb00d14d90e3e16cd6"
   }
  }
 },
 "nbformat": 4,
 "nbformat_minor": 2
}
