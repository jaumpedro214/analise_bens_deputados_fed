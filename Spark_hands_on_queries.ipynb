{
 "cells": [
  {
   "cell_type": "markdown",
   "metadata": {},
   "source": [
    "# Queries mais elaboradas"
   ]
  },
  {
   "cell_type": "code",
   "execution_count": 1,
   "metadata": {},
   "outputs": [],
   "source": [
    "from pyspark.sql import SparkSession\n",
    "from pyspark.sql import functions as F"
   ]
  },
  {
   "cell_type": "code",
   "execution_count": 2,
   "metadata": {},
   "outputs": [
    {
     "name": "stderr",
     "output_type": "stream",
     "text": [
      "/home/joaopedro/.local/lib/python3.6/site-packages/pyspark/context.py:238: FutureWarning: Python 3.6 support is deprecated in Spark 3.2.\n",
      "  FutureWarning\n"
     ]
    }
   ],
   "source": [
    "spark = SparkSession.builder.appName('SparkEleicoes2022').getOrCreate()"
   ]
  },
  {
   "cell_type": "markdown",
   "metadata": {},
   "source": [
    "# Carregando os dados"
   ]
  },
  {
   "cell_type": "markdown",
   "metadata": {},
   "source": [
    "'Carregando' o arquivo de bens"
   ]
  },
  {
   "cell_type": "code",
   "execution_count": 9,
   "metadata": {},
   "outputs": [],
   "source": [
    "bens_df = (\n",
    "    spark\n",
    "    .read\n",
    "    .csv(\n",
    "        './bem_candidato_2022/bem_candidato_2022_BRASIL.csv',\n",
    "        header=True,\n",
    "        inferSchema=True,\n",
    "        sep=';',\n",
    "        encoding='latin1'\n",
    "    )\n",
    "    .withColumn(\n",
    "        # substituindo , por . para que o Spark entenda que é um float\n",
    "        # e convertendo para float\n",
    "        'VR_BEM_CANDIDATO',\n",
    "        F.regexp_replace('VR_BEM_CANDIDATO', ',', '.').cast('float')\n",
    "    )\n",
    "    .select(\n",
    "        'SQ_CANDIDATO',\n",
    "        'DS_TIPO_BEM_CANDIDATO',\n",
    "        'VR_BEM_CANDIDATO'\n",
    "    )\n",
    ")"
   ]
  },
  {
   "cell_type": "markdown",
   "metadata": {},
   "source": [
    " Carregando o arquivo de candidatos"
   ]
  },
  {
   "cell_type": "code",
   "execution_count": 10,
   "metadata": {},
   "outputs": [],
   "source": [
    "candidatos_df = (\n",
    "    spark\n",
    "    .read\n",
    "    .csv(\n",
    "        './consulta_cand_2022/consulta_cand_2022_BRASIL.csv',\n",
    "        header=True,\n",
    "        inferSchema=True,\n",
    "        sep=';',\n",
    "        encoding='latin1'\n",
    "    )\n",
    ")"
   ]
  },
  {
   "cell_type": "markdown",
   "metadata": {},
   "source": [
    "Realizando o join entre os dois arquivos"
   ]
  },
  {
   "cell_type": "code",
   "execution_count": 11,
   "metadata": {},
   "outputs": [],
   "source": [
    "bens_candidatos_df = bens_df.join(\n",
    "    candidatos_df,\n",
    "    'SQ_CANDIDATO',\n",
    "    how = 'left'\n",
    ")"
   ]
  },
  {
   "cell_type": "markdown",
   "metadata": {},
   "source": [
    "## Valor total de bens declarados"
   ]
  },
  {
   "cell_type": "code",
   "execution_count": 23,
   "metadata": {},
   "outputs": [
    {
     "name": "stdout",
     "output_type": "stream",
     "text": [
      "+---------------------+\n",
      "|total_bens           |\n",
      "+---------------------+\n",
      "|2.3072723030748222E10|\n",
      "+---------------------+\n",
      "\n"
     ]
    }
   ],
   "source": [
    "bens_df.agg(\n",
    "    F.sum('VR_BEM_CANDIDATO').alias('total_bens')\n",
    ").show( truncate=False) "
   ]
  },
  {
   "cell_type": "markdown",
   "metadata": {},
   "source": [
    "## Valor total em bens declarados por UF"
   ]
  },
  {
   "cell_type": "code",
   "execution_count": 64,
   "metadata": {},
   "outputs": [
    {
     "name": "stdout",
     "output_type": "stream",
     "text": [
      "+-----+----------+\n",
      "|SG_UF|total_bens|\n",
      "+-----+----------+\n",
      "|   SP|      2.36|\n",
      "|   GO|      2.36|\n",
      "|   MG|      2.05|\n",
      "|   DF|      1.91|\n",
      "|   MT|      1.18|\n",
      "|   SC|      1.17|\n",
      "|   RJ|      1.13|\n",
      "|   PA|      1.13|\n",
      "|   PR|      1.08|\n",
      "|   RS|       1.0|\n",
      "|   RO|       0.9|\n",
      "|   BA|      0.73|\n",
      "|   CE|      0.67|\n",
      "|   TO|      0.61|\n",
      "|   MA|      0.52|\n",
      "|   MS|       0.5|\n",
      "|   PB|      0.47|\n",
      "|   PI|      0.42|\n",
      "|   PE|      0.41|\n",
      "|   ES|      0.37|\n",
      "|   RR|      0.33|\n",
      "|   AP|      0.32|\n",
      "|   RN|      0.32|\n",
      "|   AM|       0.3|\n",
      "|   AC|      0.26|\n",
      "|   SE|      0.23|\n",
      "|   BR|      0.18|\n",
      "|   AL|      0.17|\n",
      "| null|      null|\n",
      "+-----+----------+\n",
      "\n"
     ]
    }
   ],
   "source": [
    "(\n",
    "    bens_candidatos_df\n",
    "    .groupBy(\n",
    "        'SG_UF'\n",
    "    )\n",
    "    .agg(\n",
    "        F.sum('VR_BEM_CANDIDATO').alias('total_bens')\n",
    "    )\n",
    "    # dividindo por 1.000.000.0000 para converter para bilhões\n",
    "    # e arrerondando para duas casas decimais\n",
    "    .withColumn(\n",
    "        'total_bens',\n",
    "        F.round( F.col('total_bens') / 1e9, 2 )\n",
    "    )\n",
    "    .sort(\n",
    "        'total_bens',\n",
    "        ascending=False\n",
    "    )\n",
    "    .show(100)\n",
    ")"
   ]
  },
  {
   "cell_type": "markdown",
   "metadata": {},
   "source": [
    "## Top 5 tipos de bens com maior valor declarado"
   ]
  },
  {
   "cell_type": "code",
   "execution_count": 34,
   "metadata": {},
   "outputs": [
    {
     "name": "stdout",
     "output_type": "stream",
     "text": [
      "+--------------------------------+----------+\n",
      "|DS_TIPO_BEM_CANDIDATO           |total_bens|\n",
      "+--------------------------------+----------+\n",
      "|Quotas ou quinhões de capital   |3.36      |\n",
      "|Casa                            |2.8       |\n",
      "|Outras participações societárias|2.32      |\n",
      "|Apartamento                     |2.28      |\n",
      "|OUTROS BENS E DIREITOS          |1.84      |\n",
      "+--------------------------------+----------+\n",
      "only showing top 5 rows\n",
      "\n"
     ]
    }
   ],
   "source": [
    "## Top 5 tipos de bens com maior valor declarado\n",
    "(\n",
    "    bens_candidatos_df\n",
    "    .groupBy(\n",
    "        'DS_TIPO_BEM_CANDIDATO'\n",
    "    )\n",
    "    .agg(\n",
    "        F.sum('VR_BEM_CANDIDATO').alias('total_bens')\n",
    "    )\n",
    "    .withColumn(\n",
    "        'total_bens',\n",
    "        F.round( F.col('total_bens') / 1e9, 2 )\n",
    "    )\n",
    "    .sort(\n",
    "        'total_bens',\n",
    "        ascending=False\n",
    "    )\n",
    "    .show(5, truncate=False)\n",
    ")"
   ]
  },
  {
   "cell_type": "markdown",
   "metadata": {},
   "source": [
    "## Quantidade de candidatos por cargo"
   ]
  },
  {
   "cell_type": "code",
   "execution_count": 48,
   "metadata": {},
   "outputs": [
    {
     "name": "stdout",
     "output_type": "stream",
     "text": [
      "+------------------+----------------+\n",
      "|          DS_CARGO|total_candidatos|\n",
      "+------------------+----------------+\n",
      "|        PRESIDENTE|              11|\n",
      "|        GOVERNADOR|             216|\n",
      "|           SENADOR|             224|\n",
      "|DEPUTADO DISTRITAL|             586|\n",
      "|  DEPUTADO FEDERAL|            9823|\n",
      "| DEPUTADO ESTADUAL|           15742|\n",
      "+------------------+----------------+\n",
      "\n"
     ]
    }
   ],
   "source": [
    "## Quantidade de candidatos por cargo\n",
    "\n",
    "(\n",
    "    candidatos_df\n",
    "    .filter(\n",
    "        'DS_SITUACAO_CANDIDATURA = \"APTO\"',\n",
    "    )\n",
    "    # Desconsiderando vices e suplentes\n",
    "    .filter(\n",
    "        \"DS_CARGO NOT LIKE 'VICE%'\"\n",
    "    )\n",
    "    .filter(\n",
    "        \"DS_CARGO NOT LIKE '%SUPLENTE%'\"\n",
    "    )\n",
    "    .groupBy(\n",
    "        'DS_CARGO'\n",
    "    )\n",
    "    .agg(\n",
    "        F.countDistinct('SQ_CANDIDATO').alias('total_candidatos')\n",
    "    )\n",
    "    .sort(\n",
    "        'total_candidatos',\n",
    "        ascending=True\n",
    "    )\n",
    "    .show()\n",
    ")\n"
   ]
  },
  {
   "cell_type": "markdown",
   "metadata": {},
   "source": [
    "# Top 10 candidatos mais ricos"
   ]
  },
  {
   "cell_type": "code",
   "execution_count": 54,
   "metadata": {},
   "outputs": [
    {
     "name": "stdout",
     "output_type": "stream",
     "text": [
      "+------------+---------------------------+-----------------+-----+------------+----------------+\n",
      "|SQ_CANDIDATO|NM_CANDIDATO               |DS_CARGO         |SG_UF|SG_PARTIDO  |Total em Milhões|\n",
      "+------------+---------------------------+-----------------+-----+------------+----------------+\n",
      "|90001615125 |MARCOS ERMÍRIO DE MORAES   |2º SUPLENTE      |GO   |PSDB        |1267.95         |\n",
      "|70001723172 |PAULO OCTÁVIO ALVES PEREIRA|GOVERNADOR       |DF   |PSD         |618.87          |\n",
      "|140001611624|AILSON SOUTO DA TRINDADE   |DEPUTADO ESTADUAL|PA   |PP          |448.45          |\n",
      "|240001605916|ANTIDIO ALEIXO LUNELLI     |DEPUTADO ESTADUAL|SC   |MDB         |390.03          |\n",
      "|110001643542|OTAVIANO OLAVO PIVETTA     |VICE-GOVERNADOR  |MT   |REPUBLICANOS|378.87          |\n",
      "|210001609945|ROBERTO ARGENTA            |GOVERNADOR       |RS   |PSC         |372.94          |\n",
      "|70001621520 |LUIZ OSVALDO PASTORE       |1º SUPLENTE      |DF   |MDB         |367.94          |\n",
      "|220001614362|JOÃO GONÇALVES FILHO       |2º SUPLENTE      |RO   |PSDB        |351.59          |\n",
      "|130001605813|MONICA DE MATOS PEREIRA    |DEPUTADO ESTADUAL|MG   |PMN         |178.22          |\n",
      "|60001643110 |EUNÍCIO LOPES DE OLIVEIRA  |DEPUTADO FEDERAL |CE   |MDB         |158.18          |\n",
      "+------------+---------------------------+-----------------+-----+------------+----------------+\n",
      "only showing top 10 rows\n",
      "\n"
     ]
    }
   ],
   "source": [
    "# Top 10 candidatos mais ricos\n",
    "\n",
    "(\n",
    "    bens_candidatos_df\n",
    "    .filter(\n",
    "        'DS_SITUACAO_CANDIDATURA = \"APTO\"',\n",
    "    )\n",
    "    .groupBy(\n",
    "        'SQ_CANDIDATO',\n",
    "        'NM_CANDIDATO',\n",
    "        'DS_CARGO',\n",
    "        'SG_UF',\n",
    "        'SG_PARTIDO'\n",
    "    )\n",
    "    .agg(\n",
    "        F.sum('VR_BEM_CANDIDATO').alias('Total em Milhões')\n",
    "    )\n",
    "    .withColumn(\n",
    "        'Total em Milhões',\n",
    "        F.round( F.col('Total em Milhões') / 1e6, 2 )\n",
    "    )\n",
    "    .sort(\n",
    "        'Total em Milhões',\n",
    "        ascending=False\n",
    "    )\n",
    "    .show(10, truncate=False)\n",
    ")"
   ]
  },
  {
   "cell_type": "markdown",
   "metadata": {},
   "source": [
    "## Candidato mais rico de cada cargo concorrido"
   ]
  },
  {
   "cell_type": "code",
   "execution_count": 59,
   "metadata": {},
   "outputs": [],
   "source": [
    "# import window functions \n",
    "from pyspark.sql.window import Window"
   ]
  },
  {
   "cell_type": "code",
   "execution_count": 62,
   "metadata": {},
   "outputs": [
    {
     "name": "stdout",
     "output_type": "stream",
     "text": [
      "+------------+---------------------------+------------------+-----+------------+----------------+\n",
      "|SQ_CANDIDATO|NM_CANDIDATO               |DS_CARGO          |SG_UF|SG_PARTIDO  |Total em Milhões|\n",
      "+------------+---------------------------+------------------+-----+------------+----------------+\n",
      "|90001615125 |MARCOS ERMÍRIO DE MORAES   |2º SUPLENTE       |GO   |PSDB        |1267.95         |\n",
      "|70001723172 |PAULO OCTÁVIO ALVES PEREIRA|GOVERNADOR        |DF   |PSD         |618.87          |\n",
      "|140001611624|AILSON SOUTO DA TRINDADE   |DEPUTADO ESTADUAL |PA   |PP          |448.45          |\n",
      "|110001643542|OTAVIANO OLAVO PIVETTA     |VICE-GOVERNADOR   |MT   |REPUBLICANOS|378.87          |\n",
      "|70001621520 |LUIZ OSVALDO PASTORE       |1º SUPLENTE       |DF   |MDB         |367.94          |\n",
      "|60001643110 |EUNÍCIO LOPES DE OLIVEIRA  |DEPUTADO FEDERAL  |CE   |MDB         |158.18          |\n",
      "|220001713729|JAIME MAXIMINO BAGATTOLI   |SENADOR           |RO   |PL          |55.74           |\n",
      "|280001603612|LUIZ FELIPE CHAVES D AVILA |PRESIDENTE        |BR   |NOVO        |24.62           |\n",
      "|70001666642 |PAULO ROBERTO RORIZ        |DEPUTADO DISTRITAL|DF   |PTB         |15.26           |\n",
      "|280001607834|MARA CRISTINA GABRILLI     |VICE-PRESIDENTE   |BR   |PSDB        |12.9            |\n",
      "+------------+---------------------------+------------------+-----+------------+----------------+\n",
      "\n"
     ]
    }
   ],
   "source": [
    "## Candidato Primeiro candidato mais rico por DS_CARGO\n",
    "\n",
    "(\n",
    "    bens_candidatos_df\n",
    "    .filter(\n",
    "        'DS_SITUACAO_CANDIDATURA = \"APTO\"',\n",
    "    )\n",
    "    .groupBy(\n",
    "        'SQ_CANDIDATO',\n",
    "        'NM_CANDIDATO',\n",
    "        'DS_CARGO',\n",
    "        'SG_UF',\n",
    "        'SG_PARTIDO'\n",
    "    )\n",
    "    .agg(\n",
    "        F.sum('VR_BEM_CANDIDATO').alias('Total em Milhões')\n",
    "    )\n",
    "    .withColumn(\n",
    "        'Total em Milhões',\n",
    "        F.round( F.col('Total em Milhões') / 1e6, 2 )\n",
    "    )\n",
    "    .withColumn(\n",
    "        'rank',\n",
    "        F.row_number().over(\n",
    "            Window.partitionBy('DS_CARGO').orderBy(\n",
    "                F.col('Total em Milhões').desc()\n",
    "            )\n",
    "        )\n",
    "    )\n",
    "    .filter(\n",
    "        'rank = 1'\n",
    "    )\n",
    "    # drop rank column\n",
    "    .drop('rank')\n",
    "    .sort(\n",
    "        'Total em Milhões',\n",
    "        ascending=False\n",
    "    )\n",
    ").show(10, truncate=False)\n"
   ]
  },
  {
   "cell_type": "markdown",
   "metadata": {},
   "source": [
    "## Total de bens declarados dos candidatos a Deputado Federal por partido"
   ]
  },
  {
   "cell_type": "code",
   "execution_count": 63,
   "metadata": {},
   "outputs": [
    {
     "name": "stdout",
     "output_type": "stream",
     "text": [
      "+-------------+----------------+\n",
      "|SG_PARTIDO   |Total em Milhões|\n",
      "+-------------+----------------+\n",
      "|MDB          |733.37          |\n",
      "|PP           |604.4           |\n",
      "|PL           |583.52          |\n",
      "|UNIÃO        |580.37          |\n",
      "|PSD          |508.58          |\n",
      "|REPUBLICANOS |381.56          |\n",
      "|AVANTE       |374.4           |\n",
      "|NOVO         |295.83          |\n",
      "|PTB          |277.08          |\n",
      "|PSB          |273.78          |\n",
      "|PDT          |272.64          |\n",
      "|PODE         |271.34          |\n",
      "|PSDB         |259.91          |\n",
      "|PATRIOTA     |226.39          |\n",
      "|PSC          |215.95          |\n",
      "|PT           |210.87          |\n",
      "|PROS         |205.91          |\n",
      "|PV           |147.67          |\n",
      "|SOLIDARIEDADE|122.81          |\n",
      "|AGIR         |119.74          |\n",
      "|PRTB         |111.92          |\n",
      "|DC           |102.17          |\n",
      "|CIDADANIA    |79.53           |\n",
      "|REDE         |53.98           |\n",
      "|PMB          |52.0            |\n",
      "|PMN          |49.17           |\n",
      "|PSOL         |49.09           |\n",
      "|PC do B      |20.83           |\n",
      "|PSTU         |14.57           |\n",
      "|PCB          |4.35            |\n",
      "|PCO          |0.89            |\n",
      "|UP           |0.85            |\n",
      "+-------------+----------------+\n",
      "\n"
     ]
    }
   ],
   "source": [
    "# Total de bens declarados dos candidatos a Deputado Federal por partido\n",
    "\n",
    "(\n",
    "    bens_candidatos_df\n",
    "    .filter(\n",
    "        'DS_SITUACAO_CANDIDATURA = \"APTO\"',\n",
    "    )\n",
    "    .filter(\n",
    "        'DS_CARGO = \"DEPUTADO FEDERAL\"'\n",
    "    )\n",
    "    .groupBy(\n",
    "        'SG_PARTIDO'\n",
    "    )\n",
    "    .agg(\n",
    "        F.sum('VR_BEM_CANDIDATO').alias('Total em Milhões')\n",
    "    )\n",
    "    .withColumn(\n",
    "        'Total em Milhões',\n",
    "        F.round( F.col('Total em Milhões') / 1e6, 2 )\n",
    "    )\n",
    "    .sort(\n",
    "        'Total em Milhões',\n",
    "        ascending=False\n",
    "    )\n",
    "    .show(100, truncate=False)\n",
    ")"
   ]
  },
  {
   "cell_type": "code",
   "execution_count": null,
   "metadata": {},
   "outputs": [],
   "source": []
  }
 ],
 "metadata": {
  "kernelspec": {
   "display_name": "Python 3.6.9 64-bit",
   "language": "python",
   "name": "python3"
  },
  "language_info": {
   "codemirror_mode": {
    "name": "ipython",
    "version": 3
   },
   "file_extension": ".py",
   "mimetype": "text/x-python",
   "name": "python",
   "nbconvert_exporter": "python",
   "pygments_lexer": "ipython3",
   "version": "3.6.9"
  },
  "orig_nbformat": 4,
  "vscode": {
   "interpreter": {
    "hash": "31f2aee4e71d21fbe5cf8b01ff0e069b9275f58929596ceb00d14d90e3e16cd6"
   }
  }
 },
 "nbformat": 4,
 "nbformat_minor": 2
}
