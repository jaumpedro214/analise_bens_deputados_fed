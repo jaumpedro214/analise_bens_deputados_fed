{
 "cells": [
  {
   "cell_type": "markdown",
   "metadata": {},
   "source": [
    "# Testing Apache Spark queries "
   ]
  },
  {
   "cell_type": "markdown",
   "metadata": {},
   "source": [
    "Disclaimer: O intuito deste trabalho é meramente aprender a utilizar o Apache Spark. Embora os dados utilizados tenham teor político, não há intenção de fazer qualquer tipo apologia, seja positiva ou negativa, a qualquer partido ou candidato.\n",
    "\n",
    "O autor do trabalho declara não ter vínculo algum com nenhum partido político ou candidato.\n",
    "\n",
    "Com intuito de negar quaisquer questionamentos, tentarei usar algumas estratégias:\n",
    "- Sempre utilizar funções aleatórias para printar os dados\n",
    "- Tentar trabalhar o problema de forma geral, sem focar em nenhum partido ou candidato\n",
    "- Evitar apresentar nomes de candidatos ao menos que seja necessário"
   ]
  },
  {
   "cell_type": "markdown",
   "metadata": {},
   "source": [
    "## Instantiating Spark session"
   ]
  },
  {
   "cell_type": "code",
   "execution_count": 107,
   "metadata": {},
   "outputs": [],
   "source": [
    "from pyspark.sql import SparkSession\n",
    "from pyspark.sql import functions as F\n",
    "\n",
    "from pyspark.sql.types import (\n",
    "    StructType, \n",
    "    StructField, \n",
    "    StringType, \n",
    "    IntegerType, \n",
    "    DateType,\n",
    "    FloatType\n",
    ")"
   ]
  },
  {
   "cell_type": "code",
   "execution_count": 108,
   "metadata": {},
   "outputs": [
    {
     "name": "stderr",
     "output_type": "stream",
     "text": [
      "/home/joaopedro/.local/lib/python3.6/site-packages/pyspark/context.py:238: FutureWarning: Python 3.6 support is deprecated in Spark 3.2.\n",
      "  FutureWarning\n"
     ]
    }
   ],
   "source": [
    "spark = SparkSession.builder.appName(\"Test_queries\").getOrCreate()"
   ]
  },
  {
   "cell_type": "markdown",
   "metadata": {},
   "source": [
    "## Loading csv files from the folder"
   ]
  },
  {
   "cell_type": "markdown",
   "metadata": {},
   "source": [
    "Bens declarados dos Candidatos: https://dados.gov.br/dataset/candidatos-2022\n",
    "\n",
    "Brasil states: https://github.com/fititnt/gis-dataset-brasil"
   ]
  },
  {
   "cell_type": "markdown",
   "metadata": {},
   "source": [
    "### Loading bens"
   ]
  },
  {
   "cell_type": "code",
   "execution_count": 109,
   "metadata": {},
   "outputs": [],
   "source": [
    "df_bens_raw = (\n",
    "    spark\n",
    "    .read\n",
    "    .option(\"header\", \"true\")\n",
    "    .option(\"encoding\", 'latin1')\n",
    "    .option(\"delimiter\", \";\")\n",
    "    .option(\"inferSchema\", \"true\")\n",
    "    .csv('./bem_candidato_2022/bem_candidato_2022_BRASIL.csv')\n",
    ")"
   ]
  },
  {
   "cell_type": "markdown",
   "metadata": {},
   "source": [
    "Filtrando as colunas usadas e transformando o valor do bem em float"
   ]
  },
  {
   "cell_type": "code",
   "execution_count": 110,
   "metadata": {},
   "outputs": [],
   "source": [
    "df_bens = (\n",
    "    df_bens_raw\n",
    "    .select(\n",
    "        [\n",
    "            \"SQ_CANDIDATO\",\n",
    "            \"DS_TIPO_BEM_CANDIDATO\",\n",
    "            \"DS_BEM_CANDIDATO\",\n",
    "            \"VR_BEM_CANDIDATO\"\n",
    "        ]\n",
    "    )\n",
    "    .withColumn(\n",
    "        'VR_BEM_CANDIDATO',\n",
    "        F.regexp_replace('VR_BEM_CANDIDATO', ',', '.')\n",
    "        .cast(FloatType())\n",
    "    )\n",
    ")"
   ]
  },
  {
   "cell_type": "code",
   "execution_count": 111,
   "metadata": {},
   "outputs": [
    {
     "name": "stdout",
     "output_type": "stream",
     "text": [
      "+------------+---------------------+--------------------+----------------+\n",
      "|SQ_CANDIDATO|DS_TIPO_BEM_CANDIDATO|    DS_BEM_CANDIDATO|VR_BEM_CANDIDATO|\n",
      "+------------+---------------------+--------------------+----------------+\n",
      "|110001608768| Veículo automotor...|               Carro|         40000.0|\n",
      "|200001608811| Fundos: Ações, Mú...|5.617,50 AÇÕES DA...|        50164.28|\n",
      "|240001614377|              Terreno|TERRENO URBANO,  ...|        186200.0|\n",
      "|240001614377| Caderneta de poup...|CADERNETA DE POUP...|         2367.39|\n",
      "|210001647159| Depósito bancário...|SALDO APLICACAO F...|        22713.17|\n",
      "+------------+---------------------+--------------------+----------------+\n",
      "only showing top 5 rows\n",
      "\n"
     ]
    }
   ],
   "source": [
    "df_bens.show(5)"
   ]
  },
  {
   "cell_type": "markdown",
   "metadata": {},
   "source": [
    "### Loading Candidatos"
   ]
  },
  {
   "cell_type": "code",
   "execution_count": 112,
   "metadata": {},
   "outputs": [],
   "source": [
    "df_candidatos_raw = (\n",
    "    spark\n",
    "    .read\n",
    "    .option(\"header\", \"true\")\n",
    "    .option(\"encoding\", 'latin1')\n",
    "    .option(\"delimiter\", \";\")\n",
    "    .option(\"inferSchema\", \"true\")\n",
    "    .csv('./consulta_cand_2022/consulta_cand_2022_BRASIL.csv')\n",
    ")"
   ]
  },
  {
   "cell_type": "code",
   "execution_count": 113,
   "metadata": {},
   "outputs": [],
   "source": [
    "df_deputados_fed = (\n",
    "    df_candidatos_raw\n",
    "    .filter(df_candidatos_raw['DS_SITUACAO_CANDIDATURA'] != 'INAPTO')\n",
    "    .filter(df_candidatos_raw['CD_CARGO'] == '6') # Código do cargo de deputado federal\n",
    "    .select(\n",
    "        [\n",
    "            \"SG_UE\",\n",
    "            \"NM_UE\",\n",
    "            \"SQ_CANDIDATO\",\n",
    "            \"NM_CANDIDATO\",\n",
    "            \"SG_PARTIDO\",\n",
    "        ]\n",
    "    )\n",
    ")"
   ]
  },
  {
   "cell_type": "markdown",
   "metadata": {},
   "source": [
    "Visualizando os dados ..."
   ]
  },
  {
   "cell_type": "code",
   "execution_count": 114,
   "metadata": {},
   "outputs": [
    {
     "name": "stdout",
     "output_type": "stream",
     "text": [
      "+-----+----------+\n",
      "|SG_UE|SG_PARTIDO|\n",
      "+-----+----------+\n",
      "|   SC|       PSD|\n",
      "|   MG|      NOVO|\n",
      "|   MS|      PSDB|\n",
      "|   SC|       PSD|\n",
      "|   MG|       PMN|\n",
      "|   MG|  PATRIOTA|\n",
      "|   SP|        PP|\n",
      "|   PE|       PSB|\n",
      "|   AM|      PSDB|\n",
      "|   RS|      PROS|\n",
      "+-----+----------+\n",
      "only showing top 10 rows\n",
      "\n"
     ]
    }
   ],
   "source": [
    "(\n",
    "    df_deputados_fed\n",
    "    .select( [\"SG_UE\", \"SG_PARTIDO\"] )\n",
    "    .sample(False, 0.01)\n",
    "    .show(10)\n",
    ")"
   ]
  },
  {
   "cell_type": "markdown",
   "metadata": {},
   "source": [
    "## Realizando o Join entre os dois DataFrames"
   ]
  },
  {
   "cell_type": "markdown",
   "metadata": {},
   "source": [
    "Unir as duas tabelas usando o campo `SQ_CANDIDATO` como chave"
   ]
  },
  {
   "cell_type": "code",
   "execution_count": 115,
   "metadata": {},
   "outputs": [],
   "source": [
    "df_candidatos_bens = (\n",
    "    df_deputados_fed\n",
    "    .join(\n",
    "        df_bens, \n",
    "        on='SQ_CANDIDATO', \n",
    "        how='left'\n",
    "    )\n",
    "    .filter(\n",
    "        F.col('VR_BEM_CANDIDATO').isNotNull()\n",
    "    )\n",
    ")"
   ]
  },
  {
   "cell_type": "code",
   "execution_count": 116,
   "metadata": {},
   "outputs": [
    {
     "name": "stdout",
     "output_type": "stream",
     "text": [
      "+------------+-----+-----------------+--------------------+----------+---------------------+--------------------+----------------+\n",
      "|SQ_CANDIDATO|SG_UE|            NM_UE|        NM_CANDIDATO|SG_PARTIDO|DS_TIPO_BEM_CANDIDATO|    DS_BEM_CANDIDATO|VR_BEM_CANDIDATO|\n",
      "+------------+-----+-----------------+--------------------+----------+---------------------+--------------------+----------------+\n",
      "|190001619508|   RJ|   RIO DE JANEIRO|FABIANO OLIVEIRA ...|     UNIÃO| Quotas ou quinhõe...|99% das cotas da ...|         19800.0|\n",
      "|190001638606|   RJ|   RIO DE JANEIRO|WELDERSON SIDNEY ...|  PATRIOTA|                 Casa|no município de V...|         93000.0|\n",
      "|210001613993|   RS|RIO GRANDE DO SUL|LUCIANO PALMA DE ...|       PSD|                 Loja|Rua Coronel Chicu...|        470172.6|\n",
      "|190001619480|   RJ|   RIO DE JANEIRO|CLEBIO LOPES PEREIRA|     UNIÃO| OUTROS BENS E DIR...|            SIDERCOL|       1676989.6|\n",
      "|160001622616|   PR|           PARANÁ|NELTON MIGUEL FRI...|       PDT| Aplicação de rend...|       Investimentos|         30000.0|\n",
      "+------------+-----+-----------------+--------------------+----------+---------------------+--------------------+----------------+\n",
      "only showing top 5 rows\n",
      "\n"
     ]
    }
   ],
   "source": [
    "df_candidatos_bens.sample(False, 0.01).show(5)"
   ]
  },
  {
   "cell_type": "markdown",
   "metadata": {},
   "source": [
    "# Queries"
   ]
  },
  {
   "cell_type": "markdown",
   "metadata": {},
   "source": [
    "Existem duas formas principais de realizar queries no apache Spark aqui no Python: Funcional e via SQL.\n",
    "Essa diferença é meramente de sintaxe e escolha pessoal, pois o Spark executa as queries da mesma forma.\n",
    "\n",
    "Como eu tenho mais familiaridade com o Pandas, para mim, é mais natural utilizar o encadeamento de funções."
   ]
  },
  {
   "cell_type": "markdown",
   "metadata": {},
   "source": [
    "**Top 10 candidatos a Deputado Federal com maior patrimônio**"
   ]
  },
  {
   "cell_type": "code",
   "execution_count": 117,
   "metadata": {},
   "outputs": [
    {
     "name": "stdout",
     "output_type": "stream",
     "text": [
      "+----------------------------------+----------+-----+----------------+\n",
      "|NM_CANDIDATO                      |SG_PARTIDO|SG_UE|VR_BEM_CANDIDATO|\n",
      "+----------------------------------+----------+-----+----------------+\n",
      "|EUNÍCIO LOPES DE OLIVEIRA         |MDB       |CE   |158.18          |\n",
      "|RUY ADRIANO BORGES MUNIZ          |AVANTE    |MG   |158.02          |\n",
      "|JOSE GOMES FERREIRA FILHO         |PP        |DF   |128.64          |\n",
      "|JADYEL SILVA ALENCAR              |PV        |PI   |107.55          |\n",
      "|PABLO HENRIQUE COSTA MARÇAL       |PROS      |SP   |88.44           |\n",
      "|ALEX DOS SANTOS GARCIA            |PSC       |RN   |80.01           |\n",
      "|ADRIANA MANGABEIRA WANDERLEY      |PSD       |DF   |77.06           |\n",
      "|NEWTON BONIN                      |UNIÃO     |PR   |76.12           |\n",
      "|HERCILIO ARAUJO DINIZ FILHO       |MDB       |MG   |65.90           |\n",
      "|PAULO ROBERTO ROQUE ANTONIO KHOURI|NOVO      |DF   |65.29           |\n",
      "+----------------------------------+----------+-----+----------------+\n",
      "only showing top 10 rows\n",
      "\n"
     ]
    }
   ],
   "source": [
    "# Nomes e patrimonio dos Candidatos mais ricos\n",
    "patrimonio_candidatos = (\n",
    "    df_candidatos_bens\n",
    "    .groupBy(\"SQ_CANDIDATO\")\n",
    "    .agg(\n",
    "        F.sum(\"VR_BEM_CANDIDATO\").alias(\"VR_BEM_CANDIDATO\")\n",
    "    )\n",
    "    .join(\n",
    "        df_deputados_fed,\n",
    "        on='SQ_CANDIDATO',\n",
    "        how='left'\n",
    "    )\n",
    "    .orderBy(\n",
    "        F.desc(\"VR_BEM_CANDIDATO\")\n",
    "    )\n",
    "    .select(\n",
    "        [\n",
    "            \"NM_CANDIDATO\",\n",
    "            \"SG_PARTIDO\",\n",
    "            \"SG_UE\",\n",
    "            \"VR_BEM_CANDIDATO\",\n",
    "        ]\n",
    "    )\n",
    "    .withColumn(\n",
    "        \"VR_BEM_CANDIDATO\",\n",
    "        F.format_number(\n",
    "            F.col(\"VR_BEM_CANDIDATO\") / 1e6, 2\n",
    "        )\n",
    "    )\n",
    ")\n",
    "\n",
    "patrimonio_candidatos.show(10, truncate=False)"
   ]
  },
  {
   "cell_type": "markdown",
   "metadata": {},
   "source": [
    "**Valor total declarado**"
   ]
  },
  {
   "cell_type": "code",
   "execution_count": 118,
   "metadata": {},
   "outputs": [],
   "source": [
    "total_candidatos_bens = (\n",
    "    df_candidatos_bens\n",
    "    .agg(\n",
    "        F.sum(\"VR_BEM_CANDIDATO\").alias(\"TOTAL_BEM_CANDIDATO_BILHOES\"),\n",
    "        F.countDistinct(\"SQ_CANDIDATO\").alias(\"TOTAL_CANDIDATOS\")\n",
    "    )\n",
    "    .withColumn(\n",
    "        \"TOTAL_BEM_CANDIDATO_BILHOES\",\n",
    "        F.format_number(\n",
    "            F.col(\"TOTAL_BEM_CANDIDATO_BILHOES\") / 1e9, 2\n",
    "        )\n",
    "    )\n",
    ")"
   ]
  },
  {
   "cell_type": "code",
   "execution_count": 119,
   "metadata": {},
   "outputs": [
    {
     "data": {
      "text/plain": [
       "[Row(TOTAL_BEM_CANDIDATO_BILHOES='7.21', TOTAL_CANDIDATOS=6366)]"
      ]
     },
     "execution_count": 119,
     "metadata": {},
     "output_type": "execute_result"
    }
   ],
   "source": [
    "total_candidatos_bens.collect()"
   ]
  },
  {
   "cell_type": "markdown",
   "metadata": {},
   "source": [
    "**Valor total declarado de bens por UF**"
   ]
  },
  {
   "cell_type": "code",
   "execution_count": 120,
   "metadata": {},
   "outputs": [],
   "source": [
    "valor_por_uf = (\n",
    "    df_candidatos_bens\n",
    "    .groupBy(\n",
    "        \"SG_UE\"\n",
    "    )\n",
    "    .agg(\n",
    "        F.sum( F.col(\"VR_BEM_CANDIDATO\") ).alias(\"TOTAL BENS\")\n",
    "    )\n",
    "    .orderBy(\n",
    "        F.desc(\"TOTAL BENS\")\n",
    "    )\n",
    ")"
   ]
  },
  {
   "cell_type": "code",
   "execution_count": 121,
   "metadata": {},
   "outputs": [
    {
     "name": "stdout",
     "output_type": "stream",
     "text": [
      "+-----+--------------------+\n",
      "|SG_UE|TOTAL BENS          |\n",
      "+-----+--------------------+\n",
      "|SP   |1.2143276856198936E9|\n",
      "|MG   |9.504191711380489E8 |\n",
      "|RJ   |5.998792442260875E8 |\n",
      "|PR   |4.687364865754497E8 |\n",
      "|DF   |4.3387237743134475E8|\n",
      "|GO   |3.1266681836336124E8|\n",
      "|CE   |2.976540537267532E8 |\n",
      "|BA   |2.840689506582558E8 |\n",
      "|RS   |2.6503172541893113E8|\n",
      "|SC   |2.4177128341094604E8|\n",
      "|MA   |2.0494777125577286E8|\n",
      "|PE   |2.028025139128284E8 |\n",
      "|PA   |2.0055216283283943E8|\n",
      "|MT   |1.9994814255513492E8|\n",
      "|RR   |1.7936015321644616E8|\n",
      "|PI   |1.626300498293633E8 |\n",
      "|RN   |1.5322524850030357E8|\n",
      "|AC   |1.2491514657306153E8|\n",
      "|ES   |1.2232408985722113E8|\n",
      "|TO   |1.078568051314967E8 |\n",
      "|MS   |1.0426919895911348E8|\n",
      "|RO   |7.584124175289346E7 |\n",
      "|PB   |6.894666267027906E7 |\n",
      "|AL   |6.780417662602329E7 |\n",
      "|AM   |5.897766750664139E7 |\n",
      "|SE   |5.343360440528E7    |\n",
      "|AP   |4.920965397933769E7 |\n",
      "+-----+--------------------+\n",
      "\n"
     ]
    }
   ],
   "source": [
    "valor_por_uf.show(30, truncate=False)"
   ]
  },
  {
   "cell_type": "markdown",
   "metadata": {},
   "source": [
    "**Valor total declarado de bens por Tipo de bem**"
   ]
  },
  {
   "cell_type": "code",
   "execution_count": 122,
   "metadata": {},
   "outputs": [],
   "source": [
    "from pyspark.sql.window import Window"
   ]
  },
  {
   "cell_type": "code",
   "execution_count": 123,
   "metadata": {},
   "outputs": [],
   "source": [
    "valor_por_tipo_bem = (\n",
    "    df_candidatos_bens\n",
    "    .groupBy(\n",
    "        \"DS_TIPO_BEM_CANDIDATO\"\n",
    "    )\n",
    "    .agg(\n",
    "        F.sum( F.col(\"VR_BEM_CANDIDATO\") ).alias(\"TOTAL BENS\")\n",
    "    )\n",
    "    .orderBy(\n",
    "        F.desc(\"TOTAL BENS\")\n",
    "    )\n",
    "    .withColumn(\n",
    "        \"Percentual\",\n",
    "        # Trick to get the percentage of each row\n",
    "        # https://stackoverflow.com/questions/48915834/how-to-calculate-percentage-of-each-row-in-pyspark\n",
    "        F.col(\"TOTAL BENS\") / F.sum(F.col(\"TOTAL BENS\")).over(Window.partitionBy()) * 100\n",
    "    )\n",
    ")   "
   ]
  },
  {
   "cell_type": "code",
   "execution_count": 124,
   "metadata": {},
   "outputs": [
    {
     "name": "stdout",
     "output_type": "stream",
     "text": [
      "+------------------------------------------------------------+--------------------+------------------+\n",
      "|DS_TIPO_BEM_CANDIDATO                                       |TOTAL BENS          |Percentual        |\n",
      "+------------------------------------------------------------+--------------------+------------------+\n",
      "|Casa                                                        |1.0589040910269547E9|14.6958322559435  |\n",
      "|Quotas ou quinhões de capital                               |9.503185969242871E8 |13.188845721200835|\n",
      "|Apartamento                                                 |8.900710215289758E8 |12.352709314382224|\n",
      "|Outros bens imóveis                                         |6.791679916829965E8 |9.425725109532399 |\n",
      "|OUTROS BENS E DIREITOS                                      |5.823552953922777E8 |8.082125479509068 |\n",
      "|Terreno                                                     |5.2137738439256346E8|7.235853225994051 |\n",
      "|Outras participações societárias                            |4.374760876461487E8 |6.071442404003881 |\n",
      "|Veículo automotor terrestre: caminhão, automóvel, moto, etc.|3.96199975672637E8  |5.498598439304506 |\n",
      "|Aplicação de renda fixa (CDB, RDB e outros)                 |2.3505873639967945E8|3.262225341932122 |\n",
      "|Crédito decorrente de empréstimo                            |1.8841302605944824E8|2.614860259080707 |\n",
      "+------------------------------------------------------------+--------------------+------------------+\n",
      "only showing top 10 rows\n",
      "\n"
     ]
    }
   ],
   "source": [
    "valor_por_tipo_bem.show(10, truncate=False)"
   ]
  },
  {
   "cell_type": "markdown",
   "metadata": {},
   "source": [
    "## Saving answers to csv files"
   ]
  },
  {
   "cell_type": "code",
   "execution_count": 125,
   "metadata": {},
   "outputs": [],
   "source": [
    "ANSWERS_PATH = './answers'\n",
    "\n",
    "# Convert to Pandas\n",
    "# and save to CSV\n",
    "\n",
    "patrimonio_candidatos.toPandas().to_csv(\n",
    "    f'{ANSWERS_PATH}/patrimonio_candidatos.csv',\n",
    "    index=False\n",
    ")\n",
    "\n",
    "total_candidatos_bens.toPandas().to_csv(\n",
    "    f'{ANSWERS_PATH}/total_candidatos_bens.csv',\n",
    "    index=False\n",
    ")\n",
    "\n",
    "valor_por_uf.toPandas().to_csv(\n",
    "    f'{ANSWERS_PATH}/valor_por_uf.csv',\n",
    "    index=False\n",
    ")\n",
    "\n",
    "valor_por_tipo_bem.toPandas().to_csv(\n",
    "    f'{ANSWERS_PATH}/valor_por_tipo_bem.csv',\n",
    "    index=False\n",
    ")\n"
   ]
  },
  {
   "cell_type": "code",
   "execution_count": 126,
   "metadata": {},
   "outputs": [],
   "source": [
    "spark.stop()"
   ]
  }
 ],
 "metadata": {
  "kernelspec": {
   "display_name": "Python 3.6.9 64-bit",
   "language": "python",
   "name": "python3"
  },
  "language_info": {
   "codemirror_mode": {
    "name": "ipython",
    "version": 3
   },
   "file_extension": ".py",
   "mimetype": "text/x-python",
   "name": "python",
   "nbconvert_exporter": "python",
   "pygments_lexer": "ipython3",
   "version": "3.6.9"
  },
  "orig_nbformat": 4,
  "vscode": {
   "interpreter": {
    "hash": "31f2aee4e71d21fbe5cf8b01ff0e069b9275f58929596ceb00d14d90e3e16cd6"
   }
  }
 },
 "nbformat": 4,
 "nbformat_minor": 2
}
