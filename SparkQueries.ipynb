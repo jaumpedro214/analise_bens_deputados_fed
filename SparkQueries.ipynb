{
 "cells": [
  {
   "cell_type": "markdown",
   "metadata": {},
   "source": [
    "# Testing Apache Spark queries "
   ]
  },
  {
   "cell_type": "markdown",
   "metadata": {},
   "source": [
    "Disclaimer: O intuito deste trabalho é meramente aprender a utilizar o Apache Spark. Embora os dados utilizados tenham teor político, não há intenção de fazer qualquer tipo apologia, seja positiva ou negativa, a qualquer partido ou candidato.\n",
    "\n",
    "O autor do trabalho declara não ter vínculo algum com nenhum partido político ou candidato.\n",
    "\n",
    "Com intuito de negar quaisquer questionamentos, tentarei usar algumas estratégias:\n",
    "- Sempre utilizar funções aleatórias para printar os dados\n",
    "- Tentar trabalhar o problema de forma geral, sem focar em nenhum partido ou candidato\n",
    "- Evitar apresentar nomes de candidatos ao menos que seja necessário"
   ]
  },
  {
   "cell_type": "markdown",
   "metadata": {},
   "source": [
    "## Instantiating Spark session"
   ]
  },
  {
   "cell_type": "code",
   "execution_count": 1,
   "metadata": {},
   "outputs": [],
   "source": [
    "from pyspark.sql import SparkSession\n",
    "from pyspark.sql import functions as F\n",
    "\n",
    "from pyspark.sql.types import (\n",
    "    StructType, \n",
    "    StructField, \n",
    "    StringType, \n",
    "    IntegerType, \n",
    "    DateType,\n",
    "    FloatType\n",
    ")"
   ]
  },
  {
   "cell_type": "code",
   "execution_count": 2,
   "metadata": {},
   "outputs": [
    {
     "name": "stderr",
     "output_type": "stream",
     "text": [
      "/home/joaopedro/.local/lib/python3.6/site-packages/pyspark/context.py:238: FutureWarning: Python 3.6 support is deprecated in Spark 3.2.\n",
      "  FutureWarning\n"
     ]
    }
   ],
   "source": [
    "spark = SparkSession.builder.appName(\"Test_queries\").getOrCreate()"
   ]
  },
  {
   "cell_type": "markdown",
   "metadata": {},
   "source": [
    "## Loading csv files from the folder"
   ]
  },
  {
   "cell_type": "markdown",
   "metadata": {},
   "source": [
    "Bens declarados dos Candidatos: https://dados.gov.br/dataset/candidatos-2022\n",
    "\n",
    "Brasil states: https://github.com/fititnt/gis-dataset-brasil"
   ]
  },
  {
   "cell_type": "markdown",
   "metadata": {},
   "source": [
    "### Loading bens"
   ]
  },
  {
   "cell_type": "code",
   "execution_count": 3,
   "metadata": {},
   "outputs": [],
   "source": [
    "df_bens_raw = (\n",
    "    spark\n",
    "    .read\n",
    "    .option(\"header\", \"true\")\n",
    "    .option(\"encoding\", 'latin1')\n",
    "    .option(\"delimiter\", \";\")\n",
    "    .option(\"inferSchema\", \"true\")\n",
    "    .csv('./bem_candidato_2022/bem_candidato_2022_BRASIL.csv')\n",
    ")"
   ]
  },
  {
   "cell_type": "markdown",
   "metadata": {},
   "source": [
    "Filtrando as colunas usadas e transformando o valor do bem em float"
   ]
  },
  {
   "cell_type": "code",
   "execution_count": 4,
   "metadata": {},
   "outputs": [],
   "source": [
    "df_bens = (\n",
    "    df_bens_raw\n",
    "    .select(\n",
    "        [\n",
    "            \"SQ_CANDIDATO\",\n",
    "            \"DS_TIPO_BEM_CANDIDATO\",\n",
    "            \"DS_BEM_CANDIDATO\",\n",
    "            \"VR_BEM_CANDIDATO\"\n",
    "        ]\n",
    "    )\n",
    "    .withColumn(\n",
    "        'VR_BEM_CANDIDATO',\n",
    "        F.regexp_replace('VR_BEM_CANDIDATO', ',', '.')\n",
    "        .cast(FloatType())\n",
    "    )\n",
    ")"
   ]
  },
  {
   "cell_type": "code",
   "execution_count": 5,
   "metadata": {},
   "outputs": [
    {
     "name": "stdout",
     "output_type": "stream",
     "text": [
      "+------------+---------------------+--------------------+----------------+\n",
      "|SQ_CANDIDATO|DS_TIPO_BEM_CANDIDATO|    DS_BEM_CANDIDATO|VR_BEM_CANDIDATO|\n",
      "+------------+---------------------+--------------------+----------------+\n",
      "|110001608768| Veículo automotor...|               Carro|         40000.0|\n",
      "|200001608811| Fundos: Ações, Mú...|5.617,50 AÇÕES DA...|        50164.28|\n",
      "|240001614377|              Terreno|TERRENO URBANO,  ...|        186200.0|\n",
      "|240001614377| Caderneta de poup...|CADERNETA DE POUP...|         2367.39|\n",
      "|210001647159| Depósito bancário...|SALDO APLICACAO F...|        22713.17|\n",
      "+------------+---------------------+--------------------+----------------+\n",
      "only showing top 5 rows\n",
      "\n"
     ]
    }
   ],
   "source": [
    "df_bens.show(5)"
   ]
  },
  {
   "cell_type": "markdown",
   "metadata": {},
   "source": [
    "### Loading Candidatos"
   ]
  },
  {
   "cell_type": "code",
   "execution_count": 6,
   "metadata": {},
   "outputs": [],
   "source": [
    "df_candidatos_raw = (\n",
    "    spark\n",
    "    .read\n",
    "    .option(\"header\", \"true\")\n",
    "    .option(\"encoding\", 'latin1')\n",
    "    .option(\"delimiter\", \";\")\n",
    "    .option(\"inferSchema\", \"true\")\n",
    "    .csv('./consulta_cand_2022/consulta_cand_2022_BRASIL.csv')\n",
    ")"
   ]
  },
  {
   "cell_type": "code",
   "execution_count": 7,
   "metadata": {},
   "outputs": [],
   "source": [
    "df_deputados_fed = (\n",
    "    df_candidatos_raw\n",
    "    .filter(df_candidatos_raw['DS_SITUACAO_CANDIDATURA'] != 'INAPTO')\n",
    "    .filter(df_candidatos_raw['CD_CARGO'] == '6') # Código do cargo de deputado federal\n",
    "    .select(\n",
    "        [\n",
    "            \"SG_UE\",\n",
    "            \"NM_UE\",\n",
    "            \"SQ_CANDIDATO\",\n",
    "            \"NM_CANDIDATO\",\n",
    "            \"SG_PARTIDO\",\n",
    "        ]\n",
    "    )\n",
    ")"
   ]
  },
  {
   "cell_type": "markdown",
   "metadata": {},
   "source": [
    "Visualizando os dados ..."
   ]
  },
  {
   "cell_type": "code",
   "execution_count": 8,
   "metadata": {},
   "outputs": [
    {
     "name": "stdout",
     "output_type": "stream",
     "text": [
      "+-----+----------+\n",
      "|SG_UE|SG_PARTIDO|\n",
      "+-----+----------+\n",
      "|   SC|      PSOL|\n",
      "|   SP|       PSD|\n",
      "|   CE|      REDE|\n",
      "|   MG|       PDT|\n",
      "|   PB|     UNIÃO|\n",
      "|   MA|      AGIR|\n",
      "|   MG|        PT|\n",
      "|   SP|    AVANTE|\n",
      "|   MG|        PT|\n",
      "|   MG|       PSD|\n",
      "+-----+----------+\n",
      "only showing top 10 rows\n",
      "\n"
     ]
    }
   ],
   "source": [
    "(\n",
    "    df_deputados_fed\n",
    "    .select( [\"SG_UE\", \"SG_PARTIDO\"] )\n",
    "    .sample(False, 0.01)\n",
    "    .show(10)\n",
    ")"
   ]
  },
  {
   "cell_type": "markdown",
   "metadata": {},
   "source": [
    "## Realizando o Join entre os dois DataFrames"
   ]
  },
  {
   "cell_type": "markdown",
   "metadata": {},
   "source": [
    "Unir as duas tabelas usando o campo `SQ_CANDIDATO` como chave"
   ]
  },
  {
   "cell_type": "code",
   "execution_count": 9,
   "metadata": {},
   "outputs": [],
   "source": [
    "df_candidatos_bens = (\n",
    "    df_deputados_fed\n",
    "    .join(\n",
    "        df_bens, \n",
    "        on='SQ_CANDIDATO', \n",
    "        how='left'\n",
    "    )\n",
    "    .filter(\n",
    "        F.col('VR_BEM_CANDIDATO').isNotNull()\n",
    "    )\n",
    ")"
   ]
  },
  {
   "cell_type": "code",
   "execution_count": 10,
   "metadata": {},
   "outputs": [
    {
     "name": "stdout",
     "output_type": "stream",
     "text": [
      "+------------+-----+--------------+--------------------+------------+---------------------+--------------------+----------------+\n",
      "|SQ_CANDIDATO|SG_UE|         NM_UE|        NM_CANDIDATO|  SG_PARTIDO|DS_TIPO_BEM_CANDIDATO|    DS_BEM_CANDIDATO|VR_BEM_CANDIDATO|\n",
      "+------------+-----+--------------+--------------------+------------+---------------------+--------------------+----------------+\n",
      "|190001619493|   RJ|RIO DE JANEIRO|OTAVIO SANTOS SIL...|       UNIÃO| Depósito bancário...|Conta corrente - ...|          793.96|\n",
      "|230001602809|   RR|       RORAIMA|    DUDA BRITO RAMOS|         MDB|                 Casa|Rua Edson Vieira ...|        120000.0|\n",
      "| 10001619994|   AC|          ACRE|GERALDO ISRAEL MI...|REPUBLICANOS| Quotas ou quinhõe...|26% DAS QUOTAS DO...|         98039.0|\n",
      "|250001612101|   SP|     SÃO PAULO|        MÁRCIA ROCHA|   CIDADANIA| Jóia, quadro, obj...| ESCULTURA ARTISTICA|          4000.0|\n",
      "|250001643749|   SP|     SÃO PAULO|LEANDRO CSEIMAN D...|         PDT|              Terreno|   1/8 BAIRRO ARUJA |       128661.15|\n",
      "+------------+-----+--------------+--------------------+------------+---------------------+--------------------+----------------+\n",
      "only showing top 5 rows\n",
      "\n"
     ]
    }
   ],
   "source": [
    "df_candidatos_bens.sample(False, 0.01).show(5)"
   ]
  },
  {
   "cell_type": "markdown",
   "metadata": {},
   "source": [
    "# Queries"
   ]
  },
  {
   "cell_type": "markdown",
   "metadata": {},
   "source": [
    "Existem duas formas principais de realizar queries no apache Spark aqui no Python: Funcional e via SQL.\n",
    "Essa diferença é meramente de sintaxe e escolha pessoal, pois o Spark executa as queries da mesma forma.\n",
    "\n",
    "Como eu tenho mais familiaridade com o Pandas, para mim, é mais natural utilizar o encadeamento de funções."
   ]
  },
  {
   "cell_type": "markdown",
   "metadata": {},
   "source": [
    "**Top 10 candidatos a Deputado Federal com maior patrimônio**"
   ]
  },
  {
   "cell_type": "code",
   "execution_count": 11,
   "metadata": {},
   "outputs": [
    {
     "name": "stdout",
     "output_type": "stream",
     "text": [
      "+----------------------------------+----------+-----+----------------+\n",
      "|NM_CANDIDATO                      |SG_PARTIDO|SG_UE|VR_BEM_CANDIDATO|\n",
      "+----------------------------------+----------+-----+----------------+\n",
      "|EUNÍCIO LOPES DE OLIVEIRA         |MDB       |CE   |158.18          |\n",
      "|RUY ADRIANO BORGES MUNIZ          |AVANTE    |MG   |158.02          |\n",
      "|JOSE GOMES FERREIRA FILHO         |PP        |DF   |128.64          |\n",
      "|JADYEL SILVA ALENCAR              |PV        |PI   |107.55          |\n",
      "|PABLO HENRIQUE COSTA MARÇAL       |PROS      |SP   |88.44           |\n",
      "|ALEX DOS SANTOS GARCIA            |PSC       |RN   |80.01           |\n",
      "|ADRIANA MANGABEIRA WANDERLEY      |PSD       |DF   |77.06           |\n",
      "|NEWTON BONIN                      |UNIÃO     |PR   |76.12           |\n",
      "|HERCILIO ARAUJO DINIZ FILHO       |MDB       |MG   |65.90           |\n",
      "|PAULO ROBERTO ROQUE ANTONIO KHOURI|NOVO      |DF   |65.29           |\n",
      "+----------------------------------+----------+-----+----------------+\n",
      "only showing top 10 rows\n",
      "\n"
     ]
    }
   ],
   "source": [
    "# Nomes e patrimonio dos Candidatos mais ricos\n",
    "patrimonio_candidatos = (\n",
    "    df_candidatos_bens\n",
    "    .groupBy(\"SQ_CANDIDATO\")\n",
    "    .agg(\n",
    "        F.sum(\"VR_BEM_CANDIDATO\").alias(\"VR_BEM_CANDIDATO\")\n",
    "    )\n",
    "    .join(\n",
    "        df_deputados_fed,\n",
    "        on='SQ_CANDIDATO',\n",
    "        how='left'\n",
    "    )\n",
    "    .orderBy(\n",
    "        F.desc(\"VR_BEM_CANDIDATO\")\n",
    "    )\n",
    "    .select(\n",
    "        [\n",
    "            \"NM_CANDIDATO\",\n",
    "            \"SG_PARTIDO\",\n",
    "            \"SG_UE\",\n",
    "            \"VR_BEM_CANDIDATO\",\n",
    "        ]\n",
    "    )\n",
    "    .withColumn(\n",
    "        \"VR_BEM_CANDIDATO\",\n",
    "        F.format_number(\n",
    "            F.col(\"VR_BEM_CANDIDATO\") / 1e6, 2\n",
    "        )\n",
    "    )\n",
    ")\n",
    "\n",
    "patrimonio_candidatos.show(10, truncate=False)"
   ]
  },
  {
   "cell_type": "markdown",
   "metadata": {},
   "source": [
    "**Valor total declarado**"
   ]
  },
  {
   "cell_type": "code",
   "execution_count": 12,
   "metadata": {},
   "outputs": [],
   "source": [
    "total_candidatos_bens = (\n",
    "    df_candidatos_bens\n",
    "    .agg(\n",
    "        F.sum(\"VR_BEM_CANDIDATO\").alias(\"TOTAL_BEM_CANDIDATO_BILHOES\"),\n",
    "        F.countDistinct(\"SQ_CANDIDATO\").alias(\"TOTAL_CANDIDATOS\")\n",
    "    )\n",
    "    .withColumn(\n",
    "        \"TOTAL_BEM_CANDIDATO_BILHOES\",\n",
    "        F.format_number(\n",
    "            F.col(\"TOTAL_BEM_CANDIDATO_BILHOES\") / 1e9, 2\n",
    "        )\n",
    "    )\n",
    ")"
   ]
  },
  {
   "cell_type": "code",
   "execution_count": 13,
   "metadata": {},
   "outputs": [
    {
     "data": {
      "text/plain": [
       "[Row(TOTAL_BEM_CANDIDATO_BILHOES='7.21', TOTAL_CANDIDATOS=6366)]"
      ]
     },
     "execution_count": 13,
     "metadata": {},
     "output_type": "execute_result"
    }
   ],
   "source": [
    "total_candidatos_bens.collect()"
   ]
  },
  {
   "cell_type": "markdown",
   "metadata": {},
   "source": [
    "**Valor total declarado de bens por UF**"
   ]
  },
  {
   "cell_type": "code",
   "execution_count": 14,
   "metadata": {},
   "outputs": [],
   "source": [
    "valor_por_uf = (\n",
    "    df_candidatos_bens\n",
    "    .groupBy(\n",
    "        \"SG_UE\"\n",
    "    )\n",
    "    # Aggregate sum and avg\n",
    "    .agg(\n",
    "        F.sum( F.col(\"VR_BEM_CANDIDATO\") ).alias(\"TOTAL BENS\"),\n",
    "        F.avg( F.col(\"VR_BEM_CANDIDATO\") ).alias(\"MEDIA BENS\")\n",
    "    )\n",
    "    .orderBy(\n",
    "        F.desc(\"TOTAL BENS\")\n",
    "    )\n",
    ")"
   ]
  },
  {
   "cell_type": "code",
   "execution_count": 15,
   "metadata": {},
   "outputs": [
    {
     "name": "stdout",
     "output_type": "stream",
     "text": [
      "+-----+--------------------+------------------+\n",
      "|SG_UE|TOTAL BENS          |MEDIA BENS        |\n",
      "+-----+--------------------+------------------+\n",
      "|SP   |1.2143276856198936E9|205469.99756681785|\n",
      "|MG   |9.504191711380489E8 |256523.39301971628|\n",
      "|RJ   |5.998792442260875E8 |195209.64667298648|\n",
      "|PR   |4.687364865754497E8 |190002.62933743402|\n",
      "|DF   |4.3387237743134475E8|611949.756602743  |\n",
      "|GO   |3.1266681836336124E8|234032.04967317457|\n",
      "|CE   |2.976540537267532E8 |272327.5880391154 |\n",
      "|BA   |2.840689506582558E8 |157378.92003227468|\n",
      "|RS   |2.6503172541893113E8|130493.21783305323|\n",
      "|SC   |2.4177128341094604E8|180696.02646558   |\n",
      "|MA   |2.0494777125577286E8|170363.89963073388|\n",
      "|PE   |2.028025139128284E8 |159561.3799471506 |\n",
      "|PA   |2.0055216283283943E8|214494.29179982826|\n",
      "|MT   |1.9994814255513492E8|292321.84584084054|\n",
      "|RR   |1.7936015321644616E8|452929.6798395105 |\n",
      "|PI   |1.626300498293633E8 |309182.60423833324|\n",
      "|RN   |1.5322524850030357E8|212223.33587299663|\n",
      "|AC   |1.2491514657306153E8|444537.8881603613 |\n",
      "|ES   |1.2232408985722113E8|168722.88256168432|\n",
      "|TO   |1.078568051314967E8 |189555.01780579385|\n",
      "|MS   |1.0426919895911348E8|157506.34283854   |\n",
      "|RO   |7.584124175289346E7 |136897.5482904214 |\n",
      "|PB   |6.894666267027906E7 |129598.98998172754|\n",
      "|AL   |6.780417662602329E7 |152368.9362382546 |\n",
      "|AM   |5.897766750664139E7 |163373.04018460217|\n",
      "|SE   |5.343360440528E7    |140985.7636023219 |\n",
      "|AP   |4.920965397933769E7 |219685.9552649004 |\n",
      "+-----+--------------------+------------------+\n",
      "\n"
     ]
    }
   ],
   "source": [
    "valor_por_uf.show(30, truncate=False)"
   ]
  },
  {
   "cell_type": "markdown",
   "metadata": {},
   "source": [
    "**Valor total declarado de bens por Tipo de bem**"
   ]
  },
  {
   "cell_type": "code",
   "execution_count": 16,
   "metadata": {},
   "outputs": [],
   "source": [
    "from pyspark.sql.window import Window"
   ]
  },
  {
   "cell_type": "code",
   "execution_count": 17,
   "metadata": {},
   "outputs": [],
   "source": [
    "valor_por_tipo_bem = (\n",
    "    df_candidatos_bens\n",
    "    .groupBy(\n",
    "        \"DS_TIPO_BEM_CANDIDATO\"\n",
    "    )\n",
    "    .agg(\n",
    "        F.sum( F.col(\"VR_BEM_CANDIDATO\") ).alias(\"TOTAL BENS\")\n",
    "    )\n",
    "    .orderBy(\n",
    "        F.desc(\"TOTAL BENS\")\n",
    "    )\n",
    "    .withColumn(\n",
    "        \"Percentual\",\n",
    "        # Trick to get the percentage of each row\n",
    "        # https://stackoverflow.com/questions/48915834/how-to-calculate-percentage-of-each-row-in-pyspark\n",
    "        F.col(\"TOTAL BENS\") / F.sum(F.col(\"TOTAL BENS\")).over(Window.partitionBy()) * 100\n",
    "    )\n",
    ")   "
   ]
  },
  {
   "cell_type": "code",
   "execution_count": 18,
   "metadata": {},
   "outputs": [
    {
     "name": "stdout",
     "output_type": "stream",
     "text": [
      "+------------------------------------------------------------+--------------------+------------------+\n",
      "|DS_TIPO_BEM_CANDIDATO                                       |TOTAL BENS          |Percentual        |\n",
      "+------------------------------------------------------------+--------------------+------------------+\n",
      "|Casa                                                        |1.0589040910269547E9|14.6958322559435  |\n",
      "|Quotas ou quinhões de capital                               |9.503185969242871E8 |13.188845721200835|\n",
      "|Apartamento                                                 |8.900710215289758E8 |12.352709314382224|\n",
      "|Outros bens imóveis                                         |6.791679916829965E8 |9.425725109532399 |\n",
      "|OUTROS BENS E DIREITOS                                      |5.823552953922777E8 |8.082125479509068 |\n",
      "|Terreno                                                     |5.2137738439256346E8|7.235853225994051 |\n",
      "|Outras participações societárias                            |4.374760876461487E8 |6.071442404003881 |\n",
      "|Veículo automotor terrestre: caminhão, automóvel, moto, etc.|3.96199975672637E8  |5.498598439304506 |\n",
      "|Aplicação de renda fixa (CDB, RDB e outros)                 |2.3505873639967945E8|3.262225341932122 |\n",
      "|Crédito decorrente de empréstimo                            |1.8841302605944824E8|2.614860259080707 |\n",
      "+------------------------------------------------------------+--------------------+------------------+\n",
      "only showing top 10 rows\n",
      "\n"
     ]
    }
   ],
   "source": [
    "valor_por_tipo_bem.show(10, truncate=False)"
   ]
  },
  {
   "cell_type": "markdown",
   "metadata": {},
   "source": [
    "## Saving answers to csv files"
   ]
  },
  {
   "cell_type": "code",
   "execution_count": 19,
   "metadata": {},
   "outputs": [],
   "source": [
    "ANSWERS_PATH = './answers'\n",
    "\n",
    "# Convert to Pandas\n",
    "# and save to CSV\n",
    "\n",
    "patrimonio_candidatos.toPandas().to_csv(\n",
    "    f'{ANSWERS_PATH}/patrimonio_candidatos.csv',\n",
    "    index=False\n",
    ")\n",
    "\n",
    "total_candidatos_bens.toPandas().to_csv(\n",
    "    f'{ANSWERS_PATH}/total_candidatos_bens.csv',\n",
    "    index=False\n",
    ")\n",
    "\n",
    "valor_por_uf.toPandas().to_csv(\n",
    "    f'{ANSWERS_PATH}/valor_por_uf.csv',\n",
    "    index=False\n",
    ")\n",
    "\n",
    "valor_por_tipo_bem.toPandas().to_csv(\n",
    "    f'{ANSWERS_PATH}/valor_por_tipo_bem.csv',\n",
    "    index=False\n",
    ")\n"
   ]
  },
  {
   "cell_type": "code",
   "execution_count": 20,
   "metadata": {},
   "outputs": [],
   "source": [
    "spark.stop()"
   ]
  }
 ],
 "metadata": {
  "kernelspec": {
   "display_name": "Python 3.6.9 64-bit",
   "language": "python",
   "name": "python3"
  },
  "language_info": {
   "codemirror_mode": {
    "name": "ipython",
    "version": 3
   },
   "file_extension": ".py",
   "mimetype": "text/x-python",
   "name": "python",
   "nbconvert_exporter": "python",
   "pygments_lexer": "ipython3",
   "version": "3.6.9"
  },
  "orig_nbformat": 4,
  "vscode": {
   "interpreter": {
    "hash": "31f2aee4e71d21fbe5cf8b01ff0e069b9275f58929596ceb00d14d90e3e16cd6"
   }
  }
 },
 "nbformat": 4,
 "nbformat_minor": 2
}
